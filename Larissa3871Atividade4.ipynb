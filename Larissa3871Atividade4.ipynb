{
  "nbformat": 4,
  "nbformat_minor": 0,
  "metadata": {
    "colab": {
      "name": "Larissa3871Atividade4.ipynb",
      "provenance": [],
      "authorship_tag": "ABX9TyMJArVsmwBEzjz8npgKu7xF",
      "include_colab_link": true
    },
    "kernelspec": {
      "name": "python3",
      "display_name": "Python 3"
    },
    "language_info": {
      "name": "python"
    }
  },
  "cells": [
    {
      "cell_type": "markdown",
      "metadata": {
        "id": "view-in-github",
        "colab_type": "text"
      },
      "source": [
        "<a href=\"https://colab.research.google.com/github/larisabelle/dadoss/blob/main/Larissa3871Atividade4.ipynb\" target=\"_parent\"><img src=\"https://colab.research.google.com/assets/colab-badge.svg\" alt=\"Open In Colab\"/></a>"
      ]
    },
    {
      "cell_type": "code",
      "execution_count": 8,
      "metadata": {
        "id": "Y5nddiQYHTKP"
      },
      "outputs": [],
      "source": [
        "import pandas  as pd\n",
        "import numpy as np\n",
        "import matplotlib.pyplot as plt\n",
        "from scipy import stats"
      ]
    },
    {
      "cell_type": "code",
      "source": [
        "def Le_Arquivo(amostra):\n",
        "    arquivo = pd.read_csv(amostra,index_col=False, header=None, squeeze=True);\n",
        "    return arquivo;"
      ],
      "metadata": {
        "id": "w_4XCLOhHep8"
      },
      "execution_count": 9,
      "outputs": []
    },
    {
      "cell_type": "code",
      "source": [
        "atraso1 = Le_Arquivo('atraso_ia171.csv')\n",
        "atraso2 = Le_Arquivo('atraso_ie666.csv')"
      ],
      "metadata": {
        "id": "qlIO2lzQabwJ"
      },
      "execution_count": 10,
      "outputs": []
    },
    {
      "cell_type": "code",
      "source": [
        "def Inferencia (dadoA,dadoB):\n",
        "    print(\"Media da amostra A: {:.2f}\\n\" .format(dadoA.mean()))\n",
        "    print(\"Desvio Padrao A: {:.2f}\\n\" .format(dadoA.std()))\n",
        "    erro_padraoA = dadoA.std() / np.sqrt(len(dadoA))\n",
        "    print(\"Erro Padrao A: {:.2f}\\n\" .format(erro_padraoA))\n",
        "    print(\"Intervalo de confiança: {:.2f} \".format(dadoA.mean() - 2* erro_padraoA),\"a {:.2f}\\n \".format(dadoA.mean() + 2* erro_padraoA))\n",
        "    \n",
        "    print(\"Media da amostra B: {:.2f}\\n\" .format(dadoB.mean()))\n",
        "    print(\"Desvio Padrao B: {:.2f}\\n\" .format(dadoB.std()))\n",
        "    erro_padraoB = dadoB.std() / np.sqrt(len(dadoB))\n",
        "    print(\"Erro Padrao B: {:.2f}\\n\" .format(erro_padraoB))\n",
        "    print(\"Intervalo de confiança: {:.2f} \".format(dadoB.mean() - 2* erro_padraoB),\"a {:.2f} \".format(dadoB.mean() + 2* erro_padraoB))\n",
        "\n",
        "\n",
        "Inferencia(atraso1,atraso2)"
      ],
      "metadata": {
        "colab": {
          "base_uri": "https://localhost:8080/"
        },
        "id": "C_htL0ccad4E",
        "outputId": "ea62252f-cb71-400c-93a4-610bc869b9d5"
      },
      "execution_count": 11,
      "outputs": [
        {
          "output_type": "stream",
          "name": "stdout",
          "text": [
            "Media da amostra A: 500.23\n",
            "\n",
            "Desvio Padrao A: 23.90\n",
            "\n",
            "Erro Padrao A: 2.39\n",
            "\n",
            "Intervalo de confiança: 495.45  a 505.01\n",
            " \n",
            "Media da amostra B: 186.78\n",
            "\n",
            "Desvio Padrao B: 53.28\n",
            "\n",
            "Erro Padrao B: 5.33\n",
            "\n",
            "Intervalo de confiança: 176.13  a 197.44 \n"
          ]
        }
      ]
    },
    {
      "cell_type": "code",
      "source": [
        "# Hipótese 0: Não há diferença significativa que indique que um protocolo é melhor que o outro\n",
        "# Hipótese Alternativa: há diferença significativa que indique que um protocolo é melhor que o outro\n",
        "print(\"Com os calculos podemos rejeitar H0 pois a média do protocolo da amostra ie66 está dentro do intevalo de confianca.\")"
      ],
      "metadata": {
        "colab": {
          "base_uri": "https://localhost:8080/"
        },
        "id": "Oq7OKkYQanXW",
        "outputId": "069dbf5b-dae4-42d7-f676-5dab66f262c2"
      },
      "execution_count": 12,
      "outputs": [
        {
          "output_type": "stream",
          "name": "stdout",
          "text": [
            "Com os calculos podemos rejeitar H0 pois a média do protocolo da amostra ie66 está dentro do intevalo de confianca.\n"
          ]
        }
      ]
    },
    {
      "cell_type": "code",
      "source": [
        "tempoA =Le_Arquivo('tempo_combinar.csv')\n",
        "tempoB = Le_Arquivo('tempo_bitcomb.csv')\n",
        "\n",
        "Inferencia(tempoA,tempoB)"
      ],
      "metadata": {
        "colab": {
          "base_uri": "https://localhost:8080/"
        },
        "id": "Iciz5A-Fav18",
        "outputId": "41745135-a502-4e6d-b799-f0c39bb8415f"
      },
      "execution_count": 13,
      "outputs": [
        {
          "output_type": "stream",
          "name": "stdout",
          "text": [
            "Media da amostra A: 9.54\n",
            "\n",
            "Desvio Padrao A: 3.96\n",
            "\n",
            "Erro Padrao A: 0.40\n",
            "\n",
            "Intervalo de confiança: 8.75  a 10.33\n",
            " \n",
            "Media da amostra B: 8.74\n",
            "\n",
            "Desvio Padrao B: 3.60\n",
            "\n",
            "Erro Padrao B: 0.36\n",
            "\n",
            "Intervalo de confiança: 8.02  a 9.46 \n"
          ]
        }
      ]
    },
    {
      "cell_type": "code",
      "source": [
        "print(\"O tempo médio de execução dos algoritmos estão dentro do intervalo de confiança. Portanto, não se pode inferir.\")"
      ],
      "metadata": {
        "colab": {
          "base_uri": "https://localhost:8080/"
        },
        "id": "TezV88B7ayUm",
        "outputId": "9120629f-608c-4b1c-cb6f-613a29d74b86"
      },
      "execution_count": 14,
      "outputs": [
        {
          "output_type": "stream",
          "name": "stdout",
          "text": [
            "O tempo médio de execução dos algoritmos estão dentro do intervalo de confiança. Portanto, não se pode inferir.\n"
          ]
        }
      ]
    }
  ]
}