{
  "cells": [
    {
      "cell_type": "markdown",
      "metadata": {
        "id": "view-in-github",
        "colab_type": "text"
      },
      "source": [
        "<a href=\"https://colab.research.google.com/github/larisabelle/dadoss/blob/main/3871_LarissaATV2.ipynb\" target=\"_parent\"><img src=\"https://colab.research.google.com/assets/colab-badge.svg\" alt=\"Open In Colab\"/></a>"
      ]
    },
    {
      "cell_type": "markdown",
      "metadata": {
        "id": "VKVeuIoh6N-S"
      },
      "source": [
        "> Introdução à Ciência dos Dados \\\n",
        "> Ciência da Computação – UFV/Florestal\n",
        "\n",
        "\n",
        "* **Nome:** Larissa Isabelle Rodrigues e Silva\n",
        "* **Matrícula:**  03871\n",
        "\n",
        "# Aula Prática 02\n",
        "##  Estatística Descritiva\n",
        "\n",
        "**Objetivo:** Avaliar dados numéricos com base em cálculos estatísticos \\\n",
        "**Pré-requisitos:** Linguagem de programação Python, estatística básica \\\n",
        "**Meta:** Ao final da prática, o aluno será capaz de utilizar ferramentas de análise de dados para calcular indicadores estatísticos e comparar valores.\n",
        "\n",
        "----"
      ]
    },
    {
      "cell_type": "code",
      "source": [
        "### NÃO REMOVA ESSA CÉLULA! ####\n",
        "!pip install learntools_dados_ufv\n",
        "\n",
        "!wget https://raw.githubusercontent.com/gfviegas/CCF425-resources/master/p2/series.csv\n",
        "!wget https://raw.githubusercontent.com/gfviegas/CCF425-resources/master/p2/altura_homens.csv\n",
        "!wget https://raw.githubusercontent.com/gfviegas/CCF425-resources/master/p2/altura_mulheres.csv"
      ],
      "metadata": {
        "id": "T-n9f0IN7P13",
        "colab": {
          "base_uri": "https://localhost:8080/"
        },
        "outputId": "2cf61002-c49f-4e3e-998a-d36fecc64b91"
      },
      "execution_count": 1,
      "outputs": [
        {
          "output_type": "stream",
          "name": "stdout",
          "text": [
            "Collecting learntools_dados_ufv\n",
            "  Downloading learntools_dados_ufv-1.0.4.tar.gz (23 kB)\n",
            "Building wheels for collected packages: learntools-dados-ufv\n",
            "  Building wheel for learntools-dados-ufv (setup.py) ... \u001b[?25l\u001b[?25hdone\n",
            "  Created wheel for learntools-dados-ufv: filename=learntools_dados_ufv-1.0.4-py3-none-any.whl size=28521 sha256=d96ef53b1423d2da034103d73338f76b628bc54d0eeeeca8154a179a5af29528\n",
            "  Stored in directory: /root/.cache/pip/wheels/da/a6/8a/0cb51a7c24450fe832e0d5b5d7985631f9deb3d8db406a5129\n",
            "Successfully built learntools-dados-ufv\n",
            "Installing collected packages: learntools-dados-ufv\n",
            "Successfully installed learntools-dados-ufv-1.0.4\n",
            "--2022-05-12 13:10:37--  https://raw.githubusercontent.com/gfviegas/CCF425-resources/master/p2/series.csv\n",
            "Resolving raw.githubusercontent.com (raw.githubusercontent.com)... 185.199.108.133, 185.199.109.133, 185.199.110.133, ...\n",
            "Connecting to raw.githubusercontent.com (raw.githubusercontent.com)|185.199.108.133|:443... connected.\n",
            "HTTP request sent, awaiting response... 200 OK\n",
            "Length: 43 [text/plain]\n",
            "Saving to: ‘series.csv’\n",
            "\n",
            "series.csv          100%[===================>]      43  --.-KB/s    in 0s      \n",
            "\n",
            "2022-05-12 13:10:37 (2.39 MB/s) - ‘series.csv’ saved [43/43]\n",
            "\n",
            "--2022-05-12 13:10:37--  https://raw.githubusercontent.com/gfviegas/CCF425-resources/master/p2/altura_homens.csv\n",
            "Resolving raw.githubusercontent.com (raw.githubusercontent.com)... 185.199.108.133, 185.199.109.133, 185.199.110.133, ...\n",
            "Connecting to raw.githubusercontent.com (raw.githubusercontent.com)|185.199.108.133|:443... connected.\n",
            "HTTP request sent, awaiting response... 200 OK\n",
            "Length: 7000 (6.8K) [text/plain]\n",
            "Saving to: ‘altura_homens.csv’\n",
            "\n",
            "altura_homens.csv   100%[===================>]   6.84K  --.-KB/s    in 0s      \n",
            "\n",
            "2022-05-12 13:10:37 (55.4 MB/s) - ‘altura_homens.csv’ saved [7000/7000]\n",
            "\n",
            "--2022-05-12 13:10:37--  https://raw.githubusercontent.com/gfviegas/CCF425-resources/master/p2/altura_mulheres.csv\n",
            "Resolving raw.githubusercontent.com (raw.githubusercontent.com)... 185.199.108.133, 185.199.110.133, 185.199.109.133, ...\n",
            "Connecting to raw.githubusercontent.com (raw.githubusercontent.com)|185.199.108.133|:443... connected.\n",
            "HTTP request sent, awaiting response... 200 OK\n",
            "Length: 7000 (6.8K) [text/plain]\n",
            "Saving to: ‘altura_mulheres.csv’\n",
            "\n",
            "altura_mulheres.csv 100%[===================>]   6.84K  --.-KB/s    in 0s      \n",
            "\n",
            "2022-05-12 13:10:37 (56.1 MB/s) - ‘altura_mulheres.csv’ saved [7000/7000]\n",
            "\n"
          ]
        }
      ]
    },
    {
      "cell_type": "code",
      "execution_count": 2,
      "metadata": {
        "id": "_X9J3UPRX7_6"
      },
      "outputs": [],
      "source": [
        "#### Não altere essa célula!!! ####\n",
        "import pandas as pd\n",
        "\n",
        "from learntools_dados_ufv.core import binder; binder.bind(globals())\n",
        "from learntools_dados_ufv.ccf425.pratica_2 import *"
      ]
    },
    {
      "cell_type": "markdown",
      "metadata": {
        "id": "8_kKp1SH6N-Z"
      },
      "source": [
        "# Roteiro\n",
        "\n",
        "## Leitura dos dados\n",
        "Veja os dados do arquivo `series.csv`. \n",
        "\n",
        "Use a opção `squeeze=True` para obter uma Série do arquivo e não um DataFrame (comportamento default)."
      ]
    },
    {
      "cell_type": "code",
      "execution_count": null,
      "metadata": {
        "id": "HF4kr37Z6N-a",
        "outputId": "90de7bb1-1f3c-409f-de2d-c4650eed026e",
        "colab": {
          "base_uri": "https://localhost:8080/"
        }
      },
      "outputs": [
        {
          "output_type": "execute_result",
          "data": {
            "text/plain": [
              "0      13\n",
              "1       3\n",
              "2       5\n",
              "3       6\n",
              "4       7\n",
              "5       9\n",
              "6       5\n",
              "7      33\n",
              "8      67\n",
              "9     432\n",
              "10      5\n",
              "11      7\n",
              "12     35\n",
              "13     67\n",
              "14     83\n",
              "15     57\n",
              "16     88\n",
              "Name: 0, dtype: int64"
            ]
          },
          "metadata": {},
          "execution_count": 8
        }
      ],
      "source": [
        "series = pd.read_csv('./series.csv', index_col=False, header=None, squeeze=True)\n",
        "series"
      ]
    },
    {
      "cell_type": "markdown",
      "metadata": {
        "id": "Mw2yyXzu6N-b"
      },
      "source": [
        "## Explore os dados com base em estatísticas descritivas"
      ]
    },
    {
      "cell_type": "code",
      "execution_count": null,
      "metadata": {
        "id": "g-dv3GAy6N-b",
        "outputId": "1f0369a3-b9b4-4809-9cb7-056abcbaa250"
      },
      "outputs": [
        {
          "name": "stdout",
          "output_type": "stream",
          "text": [
            "O valor mínimo é: 3\n",
            "O valor máximo é: 432\n",
            "O valor da média é: 54.24\n",
            "O valor do desvio padrão é: 101.94\n",
            "A moda é: 0    5\n",
            "dtype: int64\n"
          ]
        }
      ],
      "source": [
        "# Mínimo\n",
        "print('O valor mínimo é: {}'.format(series.min()))\n",
        "\n",
        "# Máximo\n",
        "print('O valor máximo é: {}'.format(series.max()))\n",
        "\n",
        "# Média\n",
        "print('O valor da média é: {:.2f}'.format(series.mean()))\n",
        "\n",
        "# Desvio Padrão\n",
        "print('O valor do desvio padrão é: {:.2f}'.format(series.std()))\n",
        "\n",
        "# Moda\n",
        "print('A moda é: {}'.format(series.mode()))"
      ]
    },
    {
      "cell_type": "markdown",
      "metadata": {
        "id": "ey3yYAH46N-c"
      },
      "source": [
        "## Calcule os percentis"
      ]
    },
    {
      "cell_type": "code",
      "execution_count": null,
      "metadata": {
        "id": "Zk2egrJu6N-c",
        "outputId": "96fade9b-5dbe-47d1-dda8-3d5226cd023f"
      },
      "outputs": [
        {
          "name": "stdout",
          "output_type": "stream",
          "text": [
            "Percentil 25: 6.00\n",
            "Percentil 50: 13.00\n",
            "Percentil 75: 67.00\n",
            "Percentil 95: 156.80\n"
          ]
        }
      ],
      "source": [
        "# Percentil 25 (1º quartil)\n",
        "print('Percentil 25: {:.2f}'.format(series.quantile(.25)))\n",
        "\n",
        "# Percentil 50 (2º quartil ou mediana)\n",
        "print('Percentil 50: {:.2f}'.format(series.quantile(.50)))\n",
        "\n",
        "# Percentil 75 (3º quartil)\n",
        "print('Percentil 75: {:.2f}'.format(series.quantile(.75)))\n",
        "\n",
        "# Percentil 95\n",
        "print('Percentil 95: {:.2f}'.format(series.quantile(.95)))"
      ]
    },
    {
      "cell_type": "markdown",
      "metadata": {
        "id": "iwYIAbay6N-d"
      },
      "source": [
        "## Calcule a tablea de frequências"
      ]
    },
    {
      "cell_type": "code",
      "execution_count": null,
      "metadata": {
        "id": "TExAAgdU6N-d",
        "outputId": "7bbae47f-6125-46b9-ada9-3bbb89086f3e"
      },
      "outputs": [
        {
          "data": {
            "text/plain": [
              "5      3\n",
              "7      2\n",
              "67     2\n",
              "13     1\n",
              "3      1\n",
              "6      1\n",
              "9      1\n",
              "33     1\n",
              "432    1\n",
              "35     1\n",
              "83     1\n",
              "57     1\n",
              "88     1\n",
              "Name: 0, dtype: int64"
            ]
          },
          "execution_count": 14,
          "metadata": {},
          "output_type": "execute_result"
        }
      ],
      "source": [
        "series.value_counts()"
      ]
    },
    {
      "cell_type": "markdown",
      "metadata": {
        "id": "hvJMH0Rr6N-e"
      },
      "source": [
        "# Exercícios"
      ]
    },
    {
      "cell_type": "markdown",
      "metadata": {
        "id": "3LWiNtDCX7_7"
      },
      "source": [
        "## 1. Leia os arquivos `altura_homens.csv` e `altura_mulheres.csv`\n",
        "Esses arquivos contém as alturas (em cm) de 1000 homens e 1000 mulheres, respectivamente. \\\n",
        "Leia os arquivos e salve-os em uma variável contendo uma série Pandas com os dados respectivos.\n",
        "\n",
        "Armazene-os nas variáveis `men_height_series` e `women_height_series` respectivamente. \n",
        "\n",
        "Chame a função `q1.check()` no fim da célula para verificar a resposta.\n",
        "Você pode pedir dicas com `q1.hint()`"
      ]
    },
    {
      "cell_type": "code",
      "execution_count": 6,
      "metadata": {
        "id": "hbkmyaDU6N-f",
        "colab": {
          "base_uri": "https://localhost:8080/",
          "height": 488
        },
        "outputId": "083a61ec-cccf-4263-d9c4-2e2fe1f99ebd"
      },
      "outputs": [
        {
          "output_type": "stream",
          "name": "stdout",
          "text": [
            "Dados dos homens:\n"
          ]
        },
        {
          "output_type": "display_data",
          "data": {
            "text/plain": [
              "0      185.24\n",
              "1      172.64\n",
              "2      161.96\n",
              "3      163.68\n",
              "4      156.02\n",
              "        ...  \n",
              "995    171.91\n",
              "996    181.22\n",
              "997    162.80\n",
              "998    174.02\n",
              "999    163.19\n",
              "Name: 0, Length: 1000, dtype: float64"
            ]
          },
          "metadata": {}
        },
        {
          "output_type": "stream",
          "name": "stdout",
          "text": [
            "Dados das mulheres:\n"
          ]
        },
        {
          "output_type": "display_data",
          "data": {
            "text/plain": [
              "0      162.14\n",
              "1      146.68\n",
              "2      159.95\n",
              "3      171.98\n",
              "4      139.35\n",
              "        ...  \n",
              "995    161.83\n",
              "996    161.63\n",
              "997    162.94\n",
              "998    167.84\n",
              "999    149.25\n",
              "Name: 0, Length: 1000, dtype: float64"
            ]
          },
          "metadata": {}
        },
        {
          "output_type": "display_data",
          "data": {
            "text/plain": [
              "<IPython.core.display.Javascript object>"
            ],
            "application/javascript": [
              "parent.postMessage({\"jupyterEvent\": \"custom.exercise_interaction\", \"data\": {\"outcomeType\": 1, \"valueTowardsCompletion\": 0.06666666666666667, \"interactionType\": 1, \"questionType\": 2, \"questionId\": \"1_Q1\", \"learnToolsVersion\": \"1.0.4\", \"failureMessage\": \"\", \"exceptionClass\": \"\", \"trace\": \"\"}}, \"*\")"
            ]
          },
          "metadata": {}
        },
        {
          "output_type": "display_data",
          "data": {
            "text/plain": [
              "CORRETO: \n"
            ],
            "text/markdown": "<span style=\"color:#33cc33\">CORRETO:</span> \n\n"
          },
          "metadata": {}
        }
      ],
      "source": [
        "# q1.hint()\n",
        "\n",
        "men_height_series = pd.read_csv('./altura_homens.csv', index_col=False, header=None, squeeze=True)\n",
        "women_height_series = pd.read_csv('./altura_mulheres.csv', index_col=False, header=None, squeeze=True)\n",
        "\n",
        "print('Dados dos homens:')\n",
        "display(men_height_series)\n",
        "\n",
        "print('Dados das mulheres:')\n",
        "display(women_height_series)\n",
        "\n",
        "q1.check()"
      ]
    },
    {
      "cell_type": "code",
      "source": [
        "from google.colab import drive\n",
        "drive.mount('/content/drive')"
      ],
      "metadata": {
        "colab": {
          "base_uri": "https://localhost:8080/"
        },
        "id": "FmZ_lDrHaNZO",
        "outputId": "adf73878-5d3a-4dc3-d34f-6a7419a2e812"
      },
      "execution_count": 4,
      "outputs": [
        {
          "output_type": "stream",
          "name": "stdout",
          "text": [
            "Drive already mounted at /content/drive; to attempt to forcibly remount, call drive.mount(\"/content/drive\", force_remount=True).\n"
          ]
        }
      ]
    },
    {
      "cell_type": "markdown",
      "metadata": {
        "id": "4l1slkIq6N-f"
      },
      "source": [
        "## 2. Recupere a altura mínima e máxima dos homens e das mulheres dessas amostras.\n",
        "Armazene a altura mínima e máxixma dos homens nas variáveis `men_min_height` e `men_max_height`, respectivamente. \\\n",
        "Armazene a altura mínima e máxixma das mulheres nas variáveis `women_min_height` e `women_max_height`, respectivamente. \n",
        "\n",
        "Chame a função `q2.check()` no fim da célula para verificar a resposta.\n",
        "Você pode pedir dicas com `q2.hint()`"
      ]
    },
    {
      "cell_type": "code",
      "execution_count": 8,
      "metadata": {
        "id": "zIpFkHRm6N-f",
        "colab": {
          "base_uri": "https://localhost:8080/",
          "height": 114
        },
        "outputId": "61878956-dc6a-4bb9-97bd-cad4ba5b1c91"
      },
      "outputs": [
        {
          "output_type": "stream",
          "name": "stdout",
          "text": [
            "A altura mínima dos homens é: 120.05\n",
            "A altura máxima dos homens é: 221.00\n",
            "A altura mínima das mulheres é: 132.82\n",
            "A altura máxima das mulheres é: 190.30\n"
          ]
        },
        {
          "output_type": "display_data",
          "data": {
            "text/plain": [
              "<IPython.core.display.Javascript object>"
            ],
            "application/javascript": [
              "parent.postMessage({\"jupyterEvent\": \"custom.exercise_interaction\", \"data\": {\"outcomeType\": 1, \"valueTowardsCompletion\": 0.06666666666666667, \"interactionType\": 1, \"questionType\": 2, \"questionId\": \"2_Q2\", \"learnToolsVersion\": \"1.0.4\", \"failureMessage\": \"\", \"exceptionClass\": \"\", \"trace\": \"\"}}, \"*\")"
            ]
          },
          "metadata": {}
        },
        {
          "output_type": "display_data",
          "data": {
            "text/plain": [
              "CORRETO: \n"
            ],
            "text/markdown": "<span style=\"color:#33cc33\">CORRETO:</span> \n\n"
          },
          "metadata": {}
        }
      ],
      "source": [
        "# q2.hint()\n",
        "\n",
        "men_min_height = men_height_series.min()\n",
        "men_max_height = men_height_series.max()\n",
        "women_min_height = women_height_series.min()\n",
        "women_max_height = women_height_series.max()\n",
        "\n",
        "print('A altura mínima dos homens é: {:.2f}'.format(men_min_height))\n",
        "print('A altura máxima dos homens é: {:.2f}'.format(men_max_height))\n",
        "\n",
        "print('A altura mínima das mulheres é: {:.2f}'.format(women_min_height))\n",
        "print('A altura máxima das mulheres é: {:.2f}'.format(women_max_height))\n",
        "\n",
        "q2.check()"
      ]
    },
    {
      "cell_type": "markdown",
      "metadata": {
        "id": "yR1mnJTd6N-g"
      },
      "source": [
        "## 3. Recupere a média de altura dos homens e das mulheres.\n",
        "Armazene-as nas variáveis `men_mean_height` e `women_mean_height`, respectivamente.\n",
        "\n",
        "Chame a função `q3.check()` no fim da célula para verificar a resposta.\n",
        "Você pode pedir dicas com `q3.hint()`"
      ]
    },
    {
      "cell_type": "code",
      "execution_count": 9,
      "metadata": {
        "id": "rxN-qiF46N-g",
        "colab": {
          "base_uri": "https://localhost:8080/",
          "height": 80
        },
        "outputId": "ede153ee-771d-424d-9ca7-4401cbf7b67e"
      },
      "outputs": [
        {
          "output_type": "stream",
          "name": "stdout",
          "text": [
            "A altura média dos homens é: 175.06\n",
            "A altura média das mulheres é: 160.12\n"
          ]
        },
        {
          "output_type": "display_data",
          "data": {
            "text/plain": [
              "<IPython.core.display.Javascript object>"
            ],
            "application/javascript": [
              "parent.postMessage({\"jupyterEvent\": \"custom.exercise_interaction\", \"data\": {\"outcomeType\": 1, \"valueTowardsCompletion\": 0.06666666666666667, \"interactionType\": 1, \"questionType\": 2, \"questionId\": \"3_Q3\", \"learnToolsVersion\": \"1.0.4\", \"failureMessage\": \"\", \"exceptionClass\": \"\", \"trace\": \"\"}}, \"*\")"
            ]
          },
          "metadata": {}
        },
        {
          "output_type": "display_data",
          "data": {
            "text/plain": [
              "CORRETO: \n"
            ],
            "text/markdown": "<span style=\"color:#33cc33\">CORRETO:</span> \n\n"
          },
          "metadata": {}
        }
      ],
      "source": [
        "# q3.hint()\n",
        "\n",
        "men_mean_height = men_height_series.mean()\n",
        "women_mean_height = women_height_series.mean()\n",
        "\n",
        "print('A altura média dos homens é: {:.2f}'.format(men_mean_height))\n",
        "print('A altura média das mulheres é: {:.2f}'.format(women_mean_height))\n",
        "\n",
        "q3.check()"
      ]
    },
    {
      "cell_type": "markdown",
      "metadata": {
        "id": "iUj-JKtH6N-h"
      },
      "source": [
        "## 4. Recupere a mediana de altura dos homens e das mulheres\n",
        "Armazene-as nas variáveis `men_median_height` e `women_median_height`, respectivamente.\n",
        "\n",
        "Chame a função `q4.check()` no fim da célula para verificar a resposta.\n",
        "Você pode pedir dicas com `q4.hint()`"
      ]
    },
    {
      "cell_type": "code",
      "execution_count": 10,
      "metadata": {
        "id": "gXpBOkD16N-h",
        "colab": {
          "base_uri": "https://localhost:8080/",
          "height": 80
        },
        "outputId": "01b1bcc6-2fb3-409d-889e-58ff85a749dd"
      },
      "outputs": [
        {
          "output_type": "stream",
          "name": "stdout",
          "text": [
            "O valor da mediana da altura dos homens é: 174.57\n",
            "O valor da mediana da altura das mulheres é: 160.06\n"
          ]
        },
        {
          "output_type": "display_data",
          "data": {
            "text/plain": [
              "<IPython.core.display.Javascript object>"
            ],
            "application/javascript": [
              "parent.postMessage({\"jupyterEvent\": \"custom.exercise_interaction\", \"data\": {\"outcomeType\": 1, \"valueTowardsCompletion\": 0.06666666666666667, \"interactionType\": 1, \"questionType\": 2, \"questionId\": \"4_Q4\", \"learnToolsVersion\": \"1.0.4\", \"failureMessage\": \"\", \"exceptionClass\": \"\", \"trace\": \"\"}}, \"*\")"
            ]
          },
          "metadata": {}
        },
        {
          "output_type": "display_data",
          "data": {
            "text/plain": [
              "CORRETO: \n"
            ],
            "text/markdown": "<span style=\"color:#33cc33\">CORRETO:</span> \n\n"
          },
          "metadata": {}
        }
      ],
      "source": [
        "# q4.hint()\n",
        "\n",
        "men_median_height = men_height_series.median()\n",
        "women_median_height = women_height_series.median()\n",
        "\n",
        "print('O valor da mediana da altura dos homens é: {:.2f}'.format(men_median_height))\n",
        "print('O valor da mediana da altura das mulheres é: {:.2f}'.format(women_median_height))\n",
        "\n",
        "q4.check()"
      ]
    },
    {
      "cell_type": "markdown",
      "metadata": {
        "id": "NG4vw_Mq6N-h"
      },
      "source": [
        "## 5. Recupere o desvio padrão da altura dos homens e das mulheres\n",
        "Armazene-os nas variáveis `men_std_height` e `women_std_height`, respectivamente.\n",
        "\n",
        "Chame a função `q5.check()` no fim da célula para verificar a resposta.\n",
        "Você pode pedir dicas com `q5.hint()`"
      ]
    },
    {
      "cell_type": "code",
      "execution_count": 11,
      "metadata": {
        "id": "L6RQAmL06N-h",
        "colab": {
          "base_uri": "https://localhost:8080/",
          "height": 80
        },
        "outputId": "0a3b3ed0-1065-48d0-eca7-34fba3e545de"
      },
      "outputs": [
        {
          "output_type": "stream",
          "name": "stdout",
          "text": [
            "O valor do desvio padrão da altura dos homens é: 15.33\n",
            "O valor do desvio padrão da altura das mulheres é: 9.70\n"
          ]
        },
        {
          "output_type": "display_data",
          "data": {
            "text/plain": [
              "<IPython.core.display.Javascript object>"
            ],
            "application/javascript": [
              "parent.postMessage({\"jupyterEvent\": \"custom.exercise_interaction\", \"data\": {\"outcomeType\": 1, \"valueTowardsCompletion\": 0.06666666666666667, \"interactionType\": 1, \"questionType\": 2, \"questionId\": \"5_Q5\", \"learnToolsVersion\": \"1.0.4\", \"failureMessage\": \"\", \"exceptionClass\": \"\", \"trace\": \"\"}}, \"*\")"
            ]
          },
          "metadata": {}
        },
        {
          "output_type": "display_data",
          "data": {
            "text/plain": [
              "CORRETO: \n"
            ],
            "text/markdown": "<span style=\"color:#33cc33\">CORRETO:</span> \n\n"
          },
          "metadata": {}
        }
      ],
      "source": [
        "# q5.hint()\n",
        "\n",
        "men_std_height = men_height_series.std()\n",
        "women_std_height = women_height_series.std()\n",
        "\n",
        "print('O valor do desvio padrão da altura dos homens é: {:.2f}'.format(men_std_height))\n",
        "print('O valor do desvio padrão da altura das mulheres é: {:.2f}'.format(women_std_height))\n",
        "\n",
        "q5.check()"
      ]
    },
    {
      "cell_type": "markdown",
      "metadata": {
        "id": "q1LPxmkH6N-i"
      },
      "source": [
        "## 6. Recupere o percentual de homens com altura menor que 160cm\n",
        "Armazene-o na variável `men_shorter_160cm_perc`.\n",
        "\n",
        "Chame a função `q6.check()` no fim da célula para verificar a resposta.\n",
        "Você pode pedir dicas com `q6.hint(n)` onde n é o número da dica."
      ]
    },
    {
      "cell_type": "code",
      "execution_count": 27,
      "metadata": {
        "id": "-_mMFHCH6N-i",
        "colab": {
          "base_uri": "https://localhost:8080/",
          "height": 63
        },
        "outputId": "257a8db4-e8a1-400b-9986-3ea3b15946b7"
      },
      "outputs": [
        {
          "output_type": "stream",
          "name": "stdout",
          "text": [
            "15.6\n"
          ]
        },
        {
          "output_type": "display_data",
          "data": {
            "text/plain": [
              "<IPython.core.display.Javascript object>"
            ],
            "application/javascript": [
              "parent.postMessage({\"jupyterEvent\": \"custom.exercise_interaction\", \"data\": {\"outcomeType\": 1, \"valueTowardsCompletion\": 0.06666666666666667, \"interactionType\": 1, \"questionType\": 2, \"questionId\": \"6_Q6\", \"learnToolsVersion\": \"1.0.4\", \"failureMessage\": \"\", \"exceptionClass\": \"\", \"trace\": \"\"}}, \"*\")"
            ]
          },
          "metadata": {}
        },
        {
          "output_type": "display_data",
          "data": {
            "text/plain": [
              "CORRETO: \n"
            ],
            "text/markdown": "<span style=\"color:#33cc33\">CORRETO:</span> \n\n"
          },
          "metadata": {}
        }
      ],
      "source": [
        "# q6.hint()\n",
        "\n",
        "men_shorter = men_height_series[men_height_series < 160]\n",
        "men_shorter_count = men_shorter.count()\n",
        "men_shorter_160cm_perc = (men_shorter_count * 100) / men_height_series.count()\n",
        "print(men_shorter_160cm_perc)\n",
        "\n",
        "q6.check()"
      ]
    },
    {
      "cell_type": "markdown",
      "metadata": {
        "id": "c55mkSbN6N-i"
      },
      "source": [
        "## 7. Recupere o percentual de mulheres com altura maior que 180cm\n",
        "Armazene-o na variável `women_taller_180cm_perc`.\n",
        "\n",
        "Chame a função `q7.check()` no fim da célula para verificar a resposta.\n",
        "Você pode pedir dicas com `q7.hint(n)` onde n é o número da dica."
      ]
    },
    {
      "cell_type": "code",
      "execution_count": 28,
      "metadata": {
        "id": "QOhd5ItC6N-j",
        "colab": {
          "base_uri": "https://localhost:8080/",
          "height": 63
        },
        "outputId": "8284b2e8-8157-4676-e643-c84a7e265b05"
      },
      "outputs": [
        {
          "output_type": "stream",
          "name": "stdout",
          "text": [
            "2.4\n"
          ]
        },
        {
          "output_type": "display_data",
          "data": {
            "text/plain": [
              "<IPython.core.display.Javascript object>"
            ],
            "application/javascript": [
              "parent.postMessage({\"jupyterEvent\": \"custom.exercise_interaction\", \"data\": {\"outcomeType\": 1, \"valueTowardsCompletion\": 0.06666666666666667, \"interactionType\": 1, \"questionType\": 2, \"questionId\": \"7_Q7\", \"learnToolsVersion\": \"1.0.4\", \"failureMessage\": \"\", \"exceptionClass\": \"\", \"trace\": \"\"}}, \"*\")"
            ]
          },
          "metadata": {}
        },
        {
          "output_type": "display_data",
          "data": {
            "text/plain": [
              "CORRETO: \n"
            ],
            "text/markdown": "<span style=\"color:#33cc33\">CORRETO:</span> \n\n"
          },
          "metadata": {}
        }
      ],
      "source": [
        "# q7.hint()\n",
        "\n",
        "women_taller = women_height_series[women_height_series > 180]\n",
        "women_taller_count = women_taller.count()\n",
        "women_taller_180cm_perc = (women_taller_count * 100) / women_height_series.count()\n",
        "print(women_taller_180cm_perc)\n",
        "\n",
        "q7.check()"
      ]
    },
    {
      "cell_type": "markdown",
      "metadata": {
        "id": "xSwdN_-m6N-j"
      },
      "source": [
        "## 8. Um homem com altura 185cm está em qual percentil?\n",
        "Armazene a resposta na variável `men_185cm_percentile`.\n",
        "\n",
        "Chame a função `q8.check()` no fim da célula para verificar a resposta.\n",
        "Você pode pedir dicas com `q8.hint(n)` onde n é o número da dica."
      ]
    },
    {
      "cell_type": "code",
      "execution_count": 32,
      "metadata": {
        "id": "4TNFrDoU6N-j",
        "colab": {
          "base_uri": "https://localhost:8080/",
          "height": 63
        },
        "outputId": "90198ef7-f0fd-4859-c151-1b821695fb79"
      },
      "outputs": [
        {
          "output_type": "stream",
          "name": "stdout",
          "text": [
            "73.9\n"
          ]
        },
        {
          "output_type": "display_data",
          "data": {
            "text/plain": [
              "<IPython.core.display.Javascript object>"
            ],
            "application/javascript": [
              "parent.postMessage({\"jupyterEvent\": \"custom.exercise_interaction\", \"data\": {\"outcomeType\": 1, \"valueTowardsCompletion\": 0.06666666666666667, \"interactionType\": 1, \"questionType\": 2, \"questionId\": \"8_Q8\", \"learnToolsVersion\": \"1.0.4\", \"failureMessage\": \"\", \"exceptionClass\": \"\", \"trace\": \"\"}}, \"*\")"
            ]
          },
          "metadata": {}
        },
        {
          "output_type": "display_data",
          "data": {
            "text/plain": [
              "CORRETO: \n"
            ],
            "text/markdown": "<span style=\"color:#33cc33\">CORRETO:</span> \n\n"
          },
          "metadata": {}
        }
      ],
      "source": [
        "# q8.hint()\n",
        "\n",
        "from scipy import stats\n",
        "men_185cm_percentile = stats.percentileofscore(men_height_series,185)\n",
        "print(men_185cm_percentile)\n",
        "\n",
        "q8.check()"
      ]
    },
    {
      "cell_type": "markdown",
      "metadata": {
        "id": "BbQPQ7w86N-j"
      },
      "source": [
        "## 9. Uma mulher com altura 150cm está em qual percentil?\n",
        "Armazene a resposta na variável `women_150cm_percentile`.\n",
        "\n",
        "Chame a função `q9.check()` no fim da célula para verificar a resposta.\n",
        "Você pode pedir dicas com `q9.hint(n)` onde n é o número da dica."
      ]
    },
    {
      "cell_type": "code",
      "execution_count": 33,
      "metadata": {
        "id": "geFe-w0W6N-j",
        "colab": {
          "base_uri": "https://localhost:8080/",
          "height": 63
        },
        "outputId": "2ee19272-23ed-4384-cfef-0ec6669a9e3b"
      },
      "outputs": [
        {
          "output_type": "stream",
          "name": "stdout",
          "text": [
            "14.6\n"
          ]
        },
        {
          "output_type": "display_data",
          "data": {
            "text/plain": [
              "<IPython.core.display.Javascript object>"
            ],
            "application/javascript": [
              "parent.postMessage({\"jupyterEvent\": \"custom.exercise_interaction\", \"data\": {\"outcomeType\": 1, \"valueTowardsCompletion\": 0.06666666666666667, \"interactionType\": 1, \"questionType\": 2, \"questionId\": \"9_Q9\", \"learnToolsVersion\": \"1.0.4\", \"failureMessage\": \"\", \"exceptionClass\": \"\", \"trace\": \"\"}}, \"*\")"
            ]
          },
          "metadata": {}
        },
        {
          "output_type": "display_data",
          "data": {
            "text/plain": [
              "CORRETO: \n"
            ],
            "text/markdown": "<span style=\"color:#33cc33\">CORRETO:</span> \n\n"
          },
          "metadata": {}
        }
      ],
      "source": [
        "# q9.hint()\n",
        "\n",
        "from scipy import stats\n",
        "women_150cm_percentile = stats.percentileofscore(women_height_series,150)\n",
        "print(women_150cm_percentile)\n",
        "\n",
        "q9.check()"
      ]
    },
    {
      "cell_type": "markdown",
      "metadata": {
        "id": "2zHbXl136N-k"
      },
      "source": [
        "## 10. Quais as três alturas de homens que são as mais frequentes? Quantos homens possuem, no total, essas alturas?\n",
        "Armazene a resposta das perguntas nas variáveis `men_top3_height` e `men_in_top3_height` respectivamente.\n",
        "\n",
        "Chame a função `q10.check()` no fim da célula para verificar a resposta.\n",
        "Você pode pedir dicas com `q10.hint(n)` onde n é o número da dica."
      ]
    },
    {
      "cell_type": "code",
      "execution_count": 53,
      "metadata": {
        "id": "W8J2Sjv2X7_7",
        "colab": {
          "base_uri": "https://localhost:8080/",
          "height": 131
        },
        "outputId": "df0b2e67-1125-4867-a667-bb711875ab6a"
      },
      "outputs": [
        {
          "output_type": "stream",
          "name": "stdout",
          "text": [
            "As alturas mais frequentes dos homens são:  185.74    3\n",
            "169.97    3\n",
            "165.43    3\n",
            "Name: 0, dtype: int64\n",
            "A quantidade de homens que possuem essas alturas são:  9\n"
          ]
        },
        {
          "output_type": "display_data",
          "data": {
            "text/plain": [
              "<IPython.core.display.Javascript object>"
            ],
            "application/javascript": [
              "parent.postMessage({\"jupyterEvent\": \"custom.exercise_interaction\", \"data\": {\"outcomeType\": 1, \"valueTowardsCompletion\": 0.06666666666666667, \"interactionType\": 1, \"questionType\": 2, \"questionId\": \"10_Q10\", \"learnToolsVersion\": \"1.0.4\", \"failureMessage\": \"\", \"exceptionClass\": \"\", \"trace\": \"\"}}, \"*\")"
            ]
          },
          "metadata": {}
        },
        {
          "output_type": "display_data",
          "data": {
            "text/plain": [
              "CORRETO: \n"
            ],
            "text/markdown": "<span style=\"color:#33cc33\">CORRETO:</span> \n\n"
          },
          "metadata": {}
        }
      ],
      "source": [
        "# q10.hint()\n",
        "\n",
        "men_top3_height = men_height_series.value_counts().head(3)\n",
        "men_in_top3_height = int(men_top3_height.sum())\n",
        "\n",
        "print('As alturas mais frequentes dos homens são: ', men_top3_height)\n",
        "print('A quantidade de homens que possuem essas alturas são: ', men_in_top3_height)\n",
        "\n",
        "q10.check()"
      ]
    },
    {
      "cell_type": "markdown",
      "metadata": {
        "id": "l6UIY12o6N-k"
      },
      "source": [
        "## 11. Uma mulher com altura 185cm está distante quantos desvios padrões da média das mulheres? E uma de 145cm?\n",
        "Armazene as respostas das perguntas nas variáveis `women_185cm_std_distance` e `women_145cm_std_distance` respectivamente.\n",
        "\n",
        "Chame a função `q11.check()` no fim da célula para verificar a resposta.\n",
        "Você pode pedir dicas com `q11.hint(n)` onde n é o número da dica."
      ]
    },
    {
      "cell_type": "code",
      "execution_count": 60,
      "metadata": {
        "id": "-OGk4gRy6N-k",
        "colab": {
          "base_uri": "https://localhost:8080/",
          "height": 80
        },
        "outputId": "8ef2fab0-1ffc-4730-b2cd-846bcdf1a791"
      },
      "outputs": [
        {
          "output_type": "stream",
          "name": "stdout",
          "text": [
            "A quantidade de desvios padrões distante da média de uma mulher de 185cm é:  2.564695086782181\n",
            "A quantidade de desvios padrões distante da média de uma mulher de 145cm é:  1.5580637393733114\n"
          ]
        },
        {
          "output_type": "display_data",
          "data": {
            "text/plain": [
              "<IPython.core.display.Javascript object>"
            ],
            "application/javascript": [
              "parent.postMessage({\"jupyterEvent\": \"custom.exercise_interaction\", \"data\": {\"outcomeType\": 1, \"valueTowardsCompletion\": 0.06666666666666667, \"interactionType\": 1, \"questionType\": 2, \"questionId\": \"11_Q11\", \"learnToolsVersion\": \"1.0.4\", \"failureMessage\": \"\", \"exceptionClass\": \"\", \"trace\": \"\"}}, \"*\")"
            ]
          },
          "metadata": {}
        },
        {
          "output_type": "display_data",
          "data": {
            "text/plain": [
              "CORRETO: \n"
            ],
            "text/markdown": "<span style=\"color:#33cc33\">CORRETO:</span> \n\n"
          },
          "metadata": {}
        }
      ],
      "source": [
        "# q11.hint()\n",
        "#women_mean = women_height_series.mean()\n",
        "#print(women_mean)\n",
        "#women_std_height = women_height_series.std()\n",
        "#print(women_std_height)\n",
        "women_185cm_std_distance = (185 - women_mean) / women_std_height\n",
        "women_145cm_std_distance = (women_mean - 145) / women_std_height\n",
        "\n",
        "print('A quantidade de desvios padrões distante da média de uma mulher de 185cm é: ', women_185cm_std_distance)\n",
        "print('A quantidade de desvios padrões distante da média de uma mulher de 145cm é: ', women_145cm_std_distance)\n",
        "\n",
        "q11.check()"
      ]
    },
    {
      "cell_type": "markdown",
      "metadata": {
        "id": "-UYhCR6h6N-k"
      },
      "source": [
        "## 12.\n",
        "É possível afirmar com determinado grau de confiança que uma pessoa com altura 150cm é um homem ou uma mulher?\n",
        "- E uma pessoa com altura 190cm?\n",
        "- E uma pessoa com altura 165cm?\n",
        "\n",
        "\n",
        "Esta questão não possui `check`.\n",
        "Mas você pode pedir dica com `q12.hint()`."
      ]
    },
    {
      "cell_type": "markdown",
      "metadata": {
        "id": "cwPzokLT6N-l"
      },
      "source": [
        "### Resposta:\n",
        "\n",
        "Dados os dados que temos, é possível afirmar com certa confiança que uma pessoa de 150cm é uma mulher, já que as alturas dos homens não apresentou esse valor. Em sua maioria estavam acima de 150cm.\n",
        "\n",
        "Uma pessoa com 190cm já não se pode afirmar, na nossa base de dados possuíamos homens e mulheres com essa altura.\n",
        "O mesmo ocorre para pessoas com 165cm, é uma altura que ocorre com certa frequência em ambos os sexos."
      ]
    },
    {
      "cell_type": "code",
      "execution_count": 61,
      "metadata": {
        "id": "yuarcBQW6N-l"
      },
      "outputs": [],
      "source": [
        "# q12.hint()"
      ]
    },
    {
      "cell_type": "markdown",
      "metadata": {
        "id": "pIjaC7iX6N-l"
      },
      "source": [
        "## 13. As alturas dos homens e mulheres seguem uma distribuição Normal?\n",
        "Justifique a sua resposta com evidências.\n",
        "\n",
        "Esta questão não possui `check`.\n",
        "Mas você pode pedir dica com `q13.hint()`."
      ]
    },
    {
      "cell_type": "code",
      "source": [
        "from scipy.stats import kstest, norm\n",
        "women_height_series = norm.rvs(size=1000)\n",
        "men_height_series = norm.rvs(size=1000)\n",
        "ks_statistic, p_value = kstest(women_height_series, 'norm')\n",
        "ks_statistic, p_value = kstest(men_height_series, 'norm')\n",
        "print('Women:', ks_statistic, p_value)\n",
        "print('Men: ', ks_statistic, p_value)"
      ],
      "metadata": {
        "colab": {
          "base_uri": "https://localhost:8080/"
        },
        "id": "CatcaUnveTbX",
        "outputId": "1d1829d5-f74a-4cf8-885e-d8c56cb99e12"
      },
      "execution_count": 6,
      "outputs": [
        {
          "output_type": "stream",
          "name": "stdout",
          "text": [
            "Women: 0.03230093539798701 0.24289835750579233\n",
            "Men:  0.03230093539798701 0.24289835750579233\n"
          ]
        }
      ]
    },
    {
      "cell_type": "markdown",
      "metadata": {
        "id": "tK-zrYat6N-l"
      },
      "source": [
        "### Resposta:\n",
        "O Teste Estatístico KS é a Estatística Kolmogorov-Smirnov, que segue uma Distribuição Kolmogorov se a hipótese nula for verdadeira.\n",
        "Se os dados observados seguirem perfeitamente uma distribuição normal, o valor da estatística KS será 0.\n",
        "Analisando os resultados obtidos no calculo do teste estatístico (presente na célula acima), podemos concluir que as amostras seguem uma distribuição normal."
      ]
    },
    {
      "cell_type": "code",
      "execution_count": null,
      "metadata": {
        "id": "vQwdE6_c6N-l"
      },
      "outputs": [],
      "source": [
        "# q13.hint()"
      ]
    },
    {
      "cell_type": "markdown",
      "metadata": {
        "id": "-JAYWMS86N-m"
      },
      "source": [
        "## 14. Para que serve a função “describe()” de uma Series?\n",
        "Justifique a sua resposta com evidências.\n",
        "\n",
        "Esta questão não possui `check`.\n",
        "Mas você pode pedir dica com `q14.hint()`."
      ]
    },
    {
      "cell_type": "markdown",
      "metadata": {
        "id": "YBedgadj6N-m"
      },
      "source": [
        "### Resposta:\n",
        "\n",
        "A função describe() serve para gerar estatísticas descritivas, que são aquelas que resumem a tendência central, dispersão e forma da distribuição de um conjunto de dados, excluindo NaN valores."
      ]
    },
    {
      "cell_type": "code",
      "execution_count": null,
      "metadata": {
        "id": "4wGK0w2q6N-m"
      },
      "outputs": [],
      "source": [
        "# q14.hint()"
      ]
    },
    {
      "cell_type": "markdown",
      "metadata": {
        "id": "4ejAqiK26N-m"
      },
      "source": [
        "## 15. Para que serve a função \"unique()” de uma Series?\n",
        "Justifique a sua resposta com evidências.\n",
        "\n",
        "Esta questão não possui `check`.\n",
        "Mas você pode pedir dica com `q15.hint()`."
      ]
    },
    {
      "cell_type": "markdown",
      "metadata": {
        "id": "4kpaRk-m6N-m"
      },
      "source": [
        "### Resposta:\n",
        "\n",
        "A função unique() serve para retornar valores exclusivos das Séries. Esses, são retornados em ordem de aparição. É baseado na tabela hash."
      ]
    },
    {
      "cell_type": "code",
      "execution_count": null,
      "metadata": {
        "id": "-XNk--_A6N-m"
      },
      "outputs": [],
      "source": [
        "# q15.hint()"
      ]
    }
  ],
  "metadata": {
    "colab": {
      "name": "3871-LarissaATV2.ipynb",
      "provenance": [],
      "include_colab_link": true
    },
    "kernelspec": {
      "display_name": "Python 3",
      "language": "python",
      "name": "python3"
    },
    "language_info": {
      "codemirror_mode": {
        "name": "ipython",
        "version": 3
      },
      "file_extension": ".py",
      "mimetype": "text/x-python",
      "name": "python",
      "nbconvert_exporter": "python",
      "pygments_lexer": "ipython3",
      "version": "3.9.12"
    }
  },
  "nbformat": 4,
  "nbformat_minor": 0
}